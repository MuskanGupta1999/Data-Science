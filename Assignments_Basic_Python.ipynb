{
 "cells": [
  {
   "cell_type": "markdown",
   "id": "627e7cda-2014-4fd6-9cd1-c945a9f9c767",
   "metadata": {},
   "source": [
    "# Python Programming Assignment\n",
    "Coding Exercises"
   ]
  },
  {
   "cell_type": "markdown",
   "id": "27d9f612-afa3-4a25-b0e8-0cdc13486620",
   "metadata": {},
   "source": [
    "# Exercise 1: Prime Numbers\n",
    "# Write a Python program that checks whether a given number is prime or not. A prime number is a natural number greater than 1 that has no positive divisors other than 1 and itself."
   ]
  },
  {
   "cell_type": "code",
   "execution_count": 1,
   "id": "87b78719-16b9-4333-8a91-57553341f77f",
   "metadata": {},
   "outputs": [
    {
     "name": "stdin",
     "output_type": "stream",
     "text": [
      "Enter a number to check if it's prime:  1\n"
     ]
    },
    {
     "name": "stdout",
     "output_type": "stream",
     "text": [
      "1 is not a prime number.\n"
     ]
    }
   ],
   "source": [
    "import math\n",
    "\n",
    "def is_prime(number):\n",
    "    \"\"\"Check if the given number is prime.\"\"\"\n",
    "    if number <= 1:\n",
    "        return False\n",
    "    if number <= 3:\n",
    "        return True\n",
    "    if number % 2 == 0 or number % 3 == 0:\n",
    "        return False\n",
    "    \n",
    "    i = 5\n",
    "    while i * i <= number:\n",
    "        if number % i == 0 or number % (i + 2) == 0:\n",
    "            return False\n",
    "        i += 6\n",
    "    \n",
    "    return True\n",
    "\n",
    "def main():\n",
    "    try:\n",
    "        num = int(input(\"Enter a number to check if it's prime: \"))\n",
    "        if is_prime(num):\n",
    "            print(f\"{num} is a prime number.\")\n",
    "        else:\n",
    "            print(f\"{num} is not a prime number.\")\n",
    "    except ValueError:\n",
    "        print(\"Invalid input! Please enter an integer.\")\n",
    "\n",
    "if __name__ == \"__main__\":\n",
    "    main()"
   ]
  },
  {
   "cell_type": "code",
   "execution_count": 6,
   "id": "b0024bb4-b6a7-4645-8daf-624c5d05bbf7",
   "metadata": {},
   "outputs": [
    {
     "name": "stdin",
     "output_type": "stream",
     "text": [
      "Enter a number to check if it's prime:  3\n"
     ]
    },
    {
     "name": "stdout",
     "output_type": "stream",
     "text": [
      "3 is a prime number.\n"
     ]
    }
   ],
   "source": [
    "import math\n",
    "\n",
    "def is_prime(number):\n",
    "    \"\"\"Check if the given number is prime.\"\"\"\n",
    "    if number <= 1:\n",
    "        return False\n",
    "    if number <= 3:\n",
    "        return True\n",
    "    if number % 2 == 0 or number % 3 == 0:\n",
    "        return False\n",
    "    \n",
    "    i = 5\n",
    "    while i * i <= number:\n",
    "        if number % i == 0 or number % (i + 2) == 0:\n",
    "            return False\n",
    "        i += 6\n",
    "    \n",
    "    return True\n",
    "\n",
    "def main():\n",
    "    try:\n",
    "        num = int(input(\"Enter a number to check if it's prime: \"))\n",
    "        if is_prime(num):\n",
    "            print(f\"{num} is a prime number.\")\n",
    "        else:\n",
    "            print(f\"{num} is not a prime number.\")\n",
    "    except ValueError:\n",
    "        print(\"Invalid input! Please enter an integer.\")\n",
    "\n",
    "if __name__ == \"__main__\":\n",
    "    main()"
   ]
  },
  {
   "cell_type": "markdown",
   "id": "aa157f4c-9b8a-4a6b-a85a-e087cedc4612",
   "metadata": {},
   "source": [
    "# Exercise 2: Product of Random Numbers\n",
    "# Develop a Python program that generates two random numbers and asks the user to enter the product of these numbers. The program should then check if the users answer is correct and display an appropriate message."
   ]
  },
  {
   "cell_type": "code",
   "execution_count": 2,
   "id": "71da59cf-8e80-4fdb-8aa4-31b2d02d483b",
   "metadata": {},
   "outputs": [
    {
     "name": "stdin",
     "output_type": "stream",
     "text": [
      "Enter your First Number: 20\n",
      "Enter your Second Number:  4\n"
     ]
    },
    {
     "name": "stdout",
     "output_type": "stream",
     "text": [
      "Product of 20 * 4 = 80 is True\n"
     ]
    }
   ],
   "source": [
    "#User Enter the First number\n",
    "data1 = int(input(\"Enter your First Number:\"))\n",
    "#Asking the number to enter manual by using input function\n",
    "data2 = int(input(\"Enter your Second Number: \"))\n",
    "m = data1 * data2\n",
    "#print (\"Product of these numbers:\", m)\n",
    "if m == data1 * data2:\n",
    "   print(f'Product of {data1} * {data2} = {m} is True')\n",
    "else:\n",
    "   print(f'Product of {data1} * {data2} = {m} is False')"
   ]
  },
  {
   "cell_type": "markdown",
   "id": "a7ba6667-3d36-49a4-aad3-5c2fd2e57ab1",
   "metadata": {},
   "source": [
    "# Exercise 3: Squares of Even/Odd Numbers\n",
    "# Create a Python scripts that prints the squares of all even or odd numbers within the range of 100 to 200. Choose either even or odd numbers and documents your choice in the code."
   ]
  },
  {
   "cell_type": "code",
   "execution_count": 34,
   "id": "1679153d-176e-44d7-83a1-d46cb21f7d43",
   "metadata": {},
   "outputs": [
    {
     "name": "stdout",
     "output_type": "stream",
     "text": [
      "Squares of odd numbers from 100 to 200:\n",
      "The square of 101 is 10201\n",
      "The square of 103 is 10609\n",
      "The square of 105 is 11025\n",
      "The square of 107 is 11449\n",
      "The square of 109 is 11881\n",
      "The square of 111 is 12321\n",
      "The square of 113 is 12769\n",
      "The square of 115 is 13225\n",
      "The square of 117 is 13689\n",
      "The square of 119 is 14161\n",
      "The square of 121 is 14641\n",
      "The square of 123 is 15129\n",
      "The square of 125 is 15625\n",
      "The square of 127 is 16129\n",
      "The square of 129 is 16641\n",
      "The square of 131 is 17161\n",
      "The square of 133 is 17689\n",
      "The square of 135 is 18225\n",
      "The square of 137 is 18769\n",
      "The square of 139 is 19321\n",
      "The square of 141 is 19881\n",
      "The square of 143 is 20449\n",
      "The square of 145 is 21025\n",
      "The square of 147 is 21609\n",
      "The square of 149 is 22201\n",
      "The square of 151 is 22801\n",
      "The square of 153 is 23409\n",
      "The square of 155 is 24025\n",
      "The square of 157 is 24649\n",
      "The square of 159 is 25281\n",
      "The square of 161 is 25921\n",
      "The square of 163 is 26569\n",
      "The square of 165 is 27225\n",
      "The square of 167 is 27889\n",
      "The square of 169 is 28561\n",
      "The square of 171 is 29241\n",
      "The square of 173 is 29929\n",
      "The square of 175 is 30625\n",
      "The square of 177 is 31329\n",
      "The square of 179 is 32041\n",
      "The square of 181 is 32761\n",
      "The square of 183 is 33489\n",
      "The square of 185 is 34225\n",
      "The square of 187 is 34969\n",
      "The square of 189 is 35721\n",
      "The square of 191 is 36481\n",
      "The square of 193 is 37249\n",
      "The square of 195 is 38025\n",
      "The square of 197 is 38809\n",
      "The square of 199 is 39601\n"
     ]
    }
   ],
   "source": [
    "def print_squares_of_odd_numbers(start, end):\n",
    "    \"\"\"Print the squares of all odd numbers within the given range.\"\"\"\n",
    "    # Iterate through each number in the specified range\n",
    "    for num in range(start, end + 1):\n",
    "        # Check if the number is odd\n",
    "        if num % 2 != 0:\n",
    "            # Print the square of the odd number\n",
    "            print(f\"The square of {num} is {num ** 2}\")\n",
    "\n",
    "def main():\n",
    "    start_range = 100\n",
    "    end_range = 200\n",
    "    \n",
    "    print(\"Squares of odd numbers from 100 to 200:\")\n",
    "    print_squares_of_odd_numbers(start_range, end_range)\n",
    "\n",
    "if __name__ == \"__main__\":\n",
    "    main()"
   ]
  },
  {
   "cell_type": "markdown",
   "id": "e8718c6b-b557-4de9-a7ad-be2f96e39459",
   "metadata": {},
   "source": [
    "# Exercise 4:  Word counter\n",
    "write a program to count the number of words in a given text.\n",
    "example:\n",
    "input_text = \"This is a sample text. This text will be used to demonstrate the word counter.\"\n",
    "Expected output:\n",
    "'This': 2 \n",
    "'is': 1\n",
    "'a': 1\n",
    "'sample': 1\n",
    "'text.': 1"
   ]
  },
  {
   "cell_type": "code",
   "execution_count": 7,
   "id": "b884dbd6-7e0e-4133-9496-f101af62084a",
   "metadata": {},
   "outputs": [
    {
     "name": "stdout",
     "output_type": "stream",
     "text": [
      "'this': 2\n",
      "'is': 1\n",
      "'a': 1\n",
      "'sample': 1\n",
      "'text': 2\n",
      "'will': 1\n",
      "'be': 1\n",
      "'used': 1\n",
      "'to': 1\n",
      "'demonstrate': 1\n",
      "'the': 1\n",
      "'word': 1\n",
      "'counter': 1\n"
     ]
    }
   ],
   "source": [
    "from collections import Counter\n",
    "import re\n",
    "\n",
    "def count_words(text):\n",
    "    \"\"\"Count the number of occurrences of each word in the given text.\"\"\"\n",
    "    # Use regex to find words and ignore punctuation\n",
    "    words = re.findall(r'\\b\\w+\\b', text.lower())\n",
    "    \n",
    "    # Count occurrences using Counter\n",
    "    word_counts = Counter(words)\n",
    "    \n",
    "    return word_counts\n",
    "\n",
    "def main():\n",
    "    input_text = \"This is a sample text. This text will be used to demonstrate the word counter.\"\n",
    "    \n",
    "    # Get the word counts\n",
    "    word_counts = count_words(input_text)\n",
    "    \n",
    "    # Print the word counts\n",
    "    for word, count in word_counts.items():\n",
    "        print(f\"'{word}': {count}\")\n",
    "\n",
    "if __name__ == \"__main__\":\n",
    "    main()"
   ]
  },
  {
   "cell_type": "markdown",
   "id": "0769f0dd-0859-423e-bd43-99b2eaee2d56",
   "metadata": {},
   "source": [
    "# Exercise 5: Check for Palindrome\r\n",
    "Write a Python function called is_palindrome that takes a string as input and returns True if the string is a palindrome, and False otherwise. A palindrome is a word, phrase, number, or other sequence of characters that reads the same forward and backward, ignoring spaces, punctuation, and capitalization.\r\n",
    "Example:\r\n",
    "Input: \"racecar\"\r\n",
    "Expected Output: rue\r\n"
   ]
  },
  {
   "cell_type": "code",
   "execution_count": 35,
   "id": "1f539456-7c66-478f-95e8-375cab1bb4a7",
   "metadata": {},
   "outputs": [
    {
     "name": "stdout",
     "output_type": "stream",
     "text": [
      "\"racecar\" is a palindrome.\n"
     ]
    }
   ],
   "source": [
    "import string\n",
    "\n",
    "def is_palindrome(s):\n",
    "    \"\"\"Check if the given string is a palindrome.\"\"\"\n",
    "    # Normalize the string by removing punctuation, spaces, and converting to lowercase\n",
    "    normalized_string = ''.join(char.lower() for char in s if char.isalnum())\n",
    "    \n",
    "    # Check if the normalized string reads the same forward and backward\n",
    "    return normalized_string == normalized_string[::-1]\n",
    "\n",
    "def main():\n",
    "    test_string = \"racecar\"\n",
    "    \n",
    "    # Check if the test string is a palindrome\n",
    "    if is_palindrome(test_string):\n",
    "        print(f'\"{test_string}\" is a palindrome.')\n",
    "    else:\n",
    "        print(f'\"{test_string}\" is not a palindrome.')\n",
    "\n",
    "if __name__ == \"__main__\":\n",
    "    main()"
   ]
  },
  {
   "cell_type": "code",
   "execution_count": null,
   "id": "1c5d0ffa-0135-4f68-a8fa-bad097f64902",
   "metadata": {},
   "outputs": [],
   "source": []
  }
 ],
 "metadata": {
  "kernelspec": {
   "display_name": "Python 3 (ipykernel)",
   "language": "python",
   "name": "python3"
  },
  "language_info": {
   "codemirror_mode": {
    "name": "ipython",
    "version": 3
   },
   "file_extension": ".py",
   "mimetype": "text/x-python",
   "name": "python",
   "nbconvert_exporter": "python",
   "pygments_lexer": "ipython3",
   "version": "3.11.7"
  }
 },
 "nbformat": 4,
 "nbformat_minor": 5
}
