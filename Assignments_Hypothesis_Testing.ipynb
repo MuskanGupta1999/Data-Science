{
 "cells": [
  {
   "cell_type": "markdown",
   "id": "36f27d04-bd45-407e-98f7-91a4803f2b06",
   "metadata": {},
   "source": [
    "# Hypothesis Testing"
   ]
  },
  {
   "cell_type": "markdown",
   "id": "4fef5144-a9fd-4d14-ae1e-b9bcb304624f",
   "metadata": {},
   "source": [
    "Background:\n",
    "Bombay hospitality Ltd. operates a franchise model for producing exotic Norwegian dinners throughout New England. The operating cost for a franchise in a week (W) is given by the equation W = $1,000 + $5X, where X represents the number of units produced in a week. Recent feedback from restaurant owners suggests that this cost model may no longer be accurate, as their observed weekly operating costs are higher.\n",
    "Objective:\n",
    "To investigate the restaurant owners' claim about the increase in weekly operating costs using hypothesis testing.\n",
    "Data Provided:\n",
    "•\tThe theoretical weekly operating cost model: W = $1,000 + $5X\n",
    "•\tSample of 25 restaurants with a mean weekly cost of Rs. 3,050\n",
    "•\tNumber of units produced in a week (X) follows a normal distribution with a mean (μ) of 600 units and a standard deviation (σ) of 25 units"
   ]
  },
  {
   "cell_type": "markdown",
   "id": "5cc7c8a6-8c9f-45fc-affe-99bc6969870b",
   "metadata": {},
   "source": [
    "# Assignment Tasks:"
   ]
  },
  {
   "cell_type": "markdown",
   "id": "3fe02ab0-3684-4dfb-9889-fa31e3788416",
   "metadata": {},
   "source": [
    "# 1. State the Hypotheses statement:"
   ]
  },
  {
   "cell_type": "markdown",
   "id": "65381b64-b447-476c-b5ef-60eb089420db",
   "metadata": {},
   "source": [
    "Null Hypothesis (H0): The actual mean weekly operating cost is equal to the predicted cost based on the model.\n",
    "H0: μ = 3050\n",
    "\n",
    "Alternative Hypothesis (H1): The actual mean weekly operating cost is greater than the predicted cost based on the model.\n",
    "H1: μ > 3050"
   ]
  },
  {
   "cell_type": "markdown",
   "id": "1bedc156-f535-42b2-ad28-de97849160cf",
   "metadata": {},
   "source": [
    "# 2. Calculate the Test Statistic:"
   ]
  },
  {
   "cell_type": "markdown",
   "id": "bf7bfd35-d0d8-4532-bf53-a5ae2dfc30b6",
   "metadata": {},
   "source": [
    "First, we need to calculate the theoretical mean weekly cost based on the cost model when (X = 600):\n",
    "W = 1000 + 5 * 600 = 1000 + 3000 = 4000\n",
    "\n",
    "Now we can find the test statistic (t). The formula for the test statistic is:\n",
    "t = frac{x̄ - μ}{σ / sqrt{n}}\n",
    "\n",
    "where:\n",
    "(x̄) = 3050 (sample mean weekly cost)\n",
    "(μ) = 4000 (theoretical mean weekly cost)\n",
    "(σ) = 5 * 25 = 125 (standard deviation based on the number of units produced)\n",
    "(n) = 25 (sample size)\n",
    "\n",
    "Now substituting these values into the formula:\n",
    "\n",
    "t = frac{3050 - 4000}{125 / sqrt{25}}\n",
    "t = frac{-950}{25}\n",
    "t = -38"
   ]
  },
  {
   "cell_type": "markdown",
   "id": "5620cd3e-bbd9-4b39-8caf-4f50035749c2",
   "metadata": {},
   "source": [
    "# 3. Determine the Critical Value:"
   ]
  },
  {
   "cell_type": "markdown",
   "id": "9890bf7d-3f4c-4726-a2b1-263232f66a90",
   "metadata": {},
   "source": [
    "For a one-tailed test at the significance level of α = 0.05, we look up the critical value for the standard normal (Z) distribution.\n",
    "The critical value at α = 0.05\\) is approximately:\n",
    "\n",
    "Z(0.05) = −1.645"
   ]
  },
  {
   "cell_type": "markdown",
   "id": "2e841e9a-bda1-495b-abdd-da8a684697ad",
   "metadata": {},
   "source": [
    "# 4. Make a Decision:"
   ]
  },
  {
   "cell_type": "markdown",
   "id": "0243f012-9098-4136-acb8-f83cdcbaace3",
   "metadata": {},
   "source": [
    "We found that the test statistic t = -38. Now we compare it with the critical value:\n",
    "\n",
    "Since -38 is much less than -1.645, we reject the null hypothesis."
   ]
  },
  {
   "cell_type": "markdown",
   "id": "bc8a05a8-9152-4737-84f7-3c8185743189",
   "metadata": {},
   "source": [
    "# 5. Conclusion:"
   ]
  },
  {
   "cell_type": "markdown",
   "id": "b7dca703-39cc-4dde-b44b-3777db53c37e",
   "metadata": {},
   "source": [
    "Based on the decision in step 4, there is strong evidence to support the restaurant owners' claim that the weekly operating costs are higher than the model suggests, as indicated by the significant difference between the observed costs and the theoretical model."
   ]
  }
 ],
 "metadata": {
  "kernelspec": {
   "display_name": "Python 3 (ipykernel)",
   "language": "python",
   "name": "python3"
  },
  "language_info": {
   "codemirror_mode": {
    "name": "ipython",
    "version": 3
   },
   "file_extension": ".py",
   "mimetype": "text/x-python",
   "name": "python",
   "nbconvert_exporter": "python",
   "pygments_lexer": "ipython3",
   "version": "3.11.7"
  }
 },
 "nbformat": 4,
 "nbformat_minor": 5
}
