{
 "cells": [
  {
   "cell_type": "markdown",
   "id": "67a6eae6-58f6-42eb-a163-5f5404b1d4e0",
   "metadata": {},
   "source": [
    "# Chi-Square Test"
   ]
  },
  {
   "cell_type": "code",
   "execution_count": null,
   "id": "40093f33-be17-40af-9846-5280fd8bc7a6",
   "metadata": {},
   "outputs": [],
   "source": [
    "#Association between Device Type and Customer Satisfaction\n",
    "\n",
    "#Background:\n",
    "Mizzare Corporation has collected data on customer satisfaction levels for two types of smart home devices: Smart Thermostats and Smart Lights. \n",
    "They want to determine if there's a significant association between the type of device purchased and the customer's satisfaction level.\n",
    "Data Provided:\n",
    "The data is summarized in a contingency table showing the counts of customers in each satisfaction level for both types of devices:\n",
    "Satisfaction\tSmart Thermostat\tSmart Light\tTotal\n",
    "Very Satisfied\t50\t70\t120\n",
    "Satisfied\t80\t100\t180\n",
    "Neutral\t60\t90\t150\n",
    "Unsatisfied\t30\t50\t80\n",
    "Very Unsatisfied\t20\t50\t70\n",
    "Total\t240\t360\t600\n",
    "\n",
    "#Objective:\n",
    "#To use the Chi-Square test for independence to determine if there's a significant association between the type of smart home device purchased \n",
    "#(Smart Thermostats vs. Smart Lights) and the customer satisfaction leve."
   ]
  },
  {
   "cell_type": "markdown",
   "id": "c445d238-787e-4840-9a45-a031eed03321",
   "metadata": {},
   "source": [
    "# Assignment Tasks:"
   ]
  },
  {
   "cell_type": "markdown",
   "id": "05db2d58-439c-4796-9c5c-d603b2919ce6",
   "metadata": {},
   "source": [
    "# 1. State the Hypotheses:"
   ]
  },
  {
   "cell_type": "code",
   "execution_count": null,
   "id": "42ccf4df-0e86-423a-8200-1a43f7c0f114",
   "metadata": {},
   "outputs": [],
   "source": [
    "* Null Hypothesis (H0): There is no association between the type of device purchased (Smart Thermostats vs. \n",
    "                                                                                      Smart Lights) and customer satisfaction levels.\n",
    "* Alternative Hypothesis (H1): There is an association between the type of device purchased (Smart Thermostats vs. \n",
    "                                                                                      Smart Lights) and customer satisfaction levels."
   ]
  },
  {
   "cell_type": "markdown",
   "id": "4e858eda-d2d5-485c-9c27-796a1d5042a8",
   "metadata": {},
   "source": [
    "# 2. Compute the Chi-Square Statistic:"
   ]
  },
  {
   "cell_type": "code",
   "execution_count": null,
   "id": "76037472-2f17-4439-a460-00e8db6b4723",
   "metadata": {},
   "outputs": [],
   "source": [
    "#First, let's summarize the observed (O) and calculate the expected (E) frequencies for each cell.\n",
    "\n",
    "Observed Frequencies (O):\n",
    "\n",
    "Satisfaction\tSmart Thermostat\tSmart Light\tTotal\n",
    "Very Satisfied\t50\t70\t120\n",
    "Satisfied\t80\t100\t180\n",
    "Neutral\t60\t90\t150\n",
    "Unsatisfied\t30\t50\t80\n",
    "Very Unsatisfied\t20\t50\t70\n",
    "Total\t240\t360\t600"
   ]
  },
  {
   "cell_type": "code",
   "execution_count": null,
   "id": "da0feff6-f4d7-4040-81f2-15d611aeb474",
   "metadata": {},
   "outputs": [],
   "source": [
    "Expected Frequencies (E):\n",
    "\n",
    "Using the formula \n",
    "E = (Row Total)×(Column Total)/Grand Total\n",
    "\n",
    "Very Satisfied:\n",
    "E = 120 × 240 / 600\n",
    "E = 48 (Smart Thermostat)\n",
    "\n",
    "E = 120 × 360 / 600\n",
    "​E = 72 (Smart Light)\n",
    "\n",
    "Satisfied:\n",
    "E = 180 x 240 / 600\n",
    "E = 72 (Smart Thermostat)\n",
    "\n",
    "E = 180 x 360 / 600\n",
    "E = 108 (Smart Light)\n",
    " \n",
    "Neutral:\n",
    "E = 150 x 240 / 600\n",
    "E = 60 (Smart Thermostat)\n",
    "\n",
    "E = 150 x 360 / 600\n",
    "E = 90 (Smart Light)\n",
    "\n",
    "Unsatisfied:\n",
    "E = 80 x 240 / 600\n",
    "E = 32 (Smart Thermostat)\n",
    "\n",
    "E = 80 x 360 / 600\n",
    "E = 48 (Smart Light) \n",
    "\n",
    "Very Unsatisfied:\n",
    "E = 70 x 240 / 600\n",
    "E = 28 (Smart Thermostat)\n",
    "​\n",
    "E = 70 x 360 / 600\n",
    "E = 42 (Smart Light)\n",
    "\n",
    "Expected Frequencies Table:\n",
    "\n",
    "Satisfaction\tSmart Thermostat\tSmart Light\n",
    "Very Satisfied\t     48\t                72\n",
    "Satisfied\t         72\t               108\n",
    "Neutral\t             60\t                90\n",
    "Unsatisfied\t         32\t                48\n",
    "Very Unsatisfied\t 28\t                42\n",
    "\n",
    "Chi-Square Calculation:\n",
    "\n",
    "Now, calculate the Chi-Square statistic using the formula:\n",
    "\n",
    "x^2 = ∑ (O−E)^2 / E \n",
    "\n",
    "Calculating for each cell:\n",
    "\n",
    "Very Satisfied:\n",
    "(50−48)^2/48 + (70−72)^2/72 = 2/48 + 4/72 = 0.0417+0.0556 = 0.0973\n",
    "\n",
    "Satisfied:\n",
    "(80−72)^2/72 + (100−108)^2/108 = 64/72 + 64/108 = 0.8889+0.5926 = 1.4815\n",
    "\n",
    "Neutral:\n",
    "(60−60)^2/60 + (90−90)^2/90 = 0 + 0 = 0\n",
    "\n",
    "Unsatisfied:\n",
    "(30−32)^2/32 + (50−48)^2/48 = 4/32 + 4/48 = 0.125 + 0.0833 = 0.2083\n",
    "\n",
    "Very Unsatisfied:\n",
    "(20−28)^2/28 + (50−42)^2/42 = 64/28 + 64/42 = 2.2857 + 1.5238 = 3.8095\n",
    "\n",
    "Total Chi-Square Statistic:\n",
    "\n",
    "x^2 = 0.0973+1.4815+0+0.2083+3.8095 = 5.5966"
   ]
  },
  {
   "cell_type": "markdown",
   "id": "84370b96-a5da-4913-8760-5e94e22e39ee",
   "metadata": {},
   "source": [
    "# 3. Determine the Critical Value:\r",
    "# \n",
    "Using the significance level (alpha) of 0.05 and the degrees of freedom (which is the number of categories minus 1\r\n"
   ]
  },
  {
   "cell_type": "code",
   "execution_count": null,
   "id": "ed100b28-1799-40cc-958e-63cb7e7bb2d4",
   "metadata": {},
   "outputs": [],
   "source": [
    "Degrees of Freedom (df):\n",
    "df = (rows - 1) * (columns - 1) = (5-1) * (2-1) = 4*1 = 4"
   ]
  },
  {
   "cell_type": "code",
   "execution_count": null,
   "id": "691eb7ca-08e7-4377-8f78-ef1d4ab21638",
   "metadata": {},
   "outputs": [],
   "source": [
    "Using a Chi-Square distribution table the citical value for df = 4 at α = 0.05 is approximately 9.488."
   ]
  },
  {
   "cell_type": "markdown",
   "id": "5d7cfc0a-c3f7-4f62-98aa-eed7c6bb9041",
   "metadata": {},
   "source": [
    "# 4. Make a Decision:\n",
    "# Compare the Chi-Square statistic with the critical value to decide whether to reject the null hypothesis."
   ]
  },
  {
   "cell_type": "code",
   "execution_count": null,
   "id": "24ab47dd-108b-4265-a276-d5e636d71189",
   "metadata": {},
   "outputs": [],
   "source": [
    "Now compare the Chi-Square statistic to the critical value:\n",
    "\n",
    "Chi-Square Statistic: 5.5966\n",
    "Critical Value: 9.488\n",
    "\n",
    "Since 5.5966 < 9.488, we fail to reject the null hypothesis."
   ]
  },
  {
   "cell_type": "code",
   "execution_count": null,
   "id": "c3f3f681-9d37-40fb-a20c-7177daa0a095",
   "metadata": {},
   "outputs": [],
   "source": []
  }
 ],
 "metadata": {
  "kernelspec": {
   "display_name": "Python 3 (ipykernel)",
   "language": "python",
   "name": "python3"
  },
  "language_info": {
   "codemirror_mode": {
    "name": "ipython",
    "version": 3
   },
   "file_extension": ".py",
   "mimetype": "text/x-python",
   "name": "python",
   "nbconvert_exporter": "python",
   "pygments_lexer": "ipython3",
   "version": "3.11.7"
  }
 },
 "nbformat": 4,
 "nbformat_minor": 5
}
