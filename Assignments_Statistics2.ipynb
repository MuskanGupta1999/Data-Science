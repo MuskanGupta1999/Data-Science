{
 "cells": [
  {
   "cell_type": "markdown",
   "id": "877e7938-986a-4646-b75b-ea7b106bbc3d",
   "metadata": {},
   "source": [
    "# Estimation And Confidence Intervals"
   ]
  },
  {
   "cell_type": "markdown",
   "id": "ace82874-9c83-44f5-9ac6-b967a3eebb2c",
   "metadata": {},
   "source": [
    "#Background\n",
    "In quality control processes, especially when dealing with high-value items, destructive sampling is a necessary but costly method to ensure product quality. The test to determine whether an item meets the quality standards destroys the item, leading to the requirement of small sample sizes due to cost constraints.\n",
    "\n",
    "#Scenario\n",
    "A manufacturer of print-heads for personal computers is interested in estimating the mean durability of their print-heads in terms of the number of characters printed before failure. To assess this, the manufacturer conducts a study on a small sample of print-heads due to the destructive nature of the testing process.\n",
    "\n",
    "#Data\n",
    "A total of 15 print-heads were randomly selected and tested until failure. The durability of each print-head (in millions of characters) was recorded as follows:\n",
    "1.13, 1.55, 1.43, 0.92, 1.25, 1.36, 1.32, 0.85, 1.07, 1.48, 1.20, 1.33, 1.18, 1.22, 1.29"
   ]
  },
  {
   "cell_type": "markdown",
   "id": "70cc859c-1496-4ceb-976b-84ed53b01ebd",
   "metadata": {},
   "source": [
    "# Assignment Tasks"
   ]
  },
  {
   "cell_type": "markdown",
   "id": "217cfc1e-e489-44d7-8907-796f6cbbffec",
   "metadata": {},
   "source": [
    "# a. Build 99% Confidence Interval Using Sample Standard Deviation\r\n",
    "Assuming the sample is representative of the population, construct a 99% confidence interval for the mean number of characters printed before the print-head fails using the sample standard deviation. Explain the steps you take and the rationale behind using the t-distribution for this task\r\n"
   ]
  },
  {
   "cell_type": "markdown",
   "id": "4f38cb17-a5ce-4361-b6f3-3db58f04bf1b",
   "metadata": {},
   "source": [
    "#Step 1: Calculate the Sample Mean and Sample Standard Deviation\n",
    "First, we need to calculate the sample mean x̄ and the sample standard deviation s from the given data:\n",
    "\n",
    "Data:  \n",
    "1.13, 1.55, 1.43, 0.92, 1.25, 1.36, 1.32, 0.85, 1.07, 1.48, 1.20, 1.33, 1.18, 1.22, 1.29\n",
    "\n",
    "Sample Size (n): 15\n",
    "\n",
    "Mean (x̄):\n",
    "\n",
    "(x̄) = ∑x/{n}\n",
    "(x̄) = {1.13 + 1.55 + 1.43 + 0.92 + 1.25 + 1.36 + 1.32 + 0.85 + 1.07 + 1.48 + 1.20 + 1.33 + 1.18 + 1.22 + 1.29}/{15} ≈ 1.194\n",
    "\n",
    "Calculate Standard Deviation (s):\n",
    "1. Find each deviation from the mean, square it, and sum:\n",
    "\n",
    "s^2 = {∑(x_i - x̄)^2}/{n - 1}\n",
    "\n",
    "Calculating deviations:\n",
    "(1.13 - 1.194)^2, (1.55 - 1.194)^2, ..., (1.29 - 1.194)^2\n",
    "\n",
    "After calculation, we find:\n",
    "s ≈ 0.229\n",
    "\n",
    "#Step 2: Determine the t-score\n",
    "For a 99% confidence interval with n - 1 = 14 degrees of freedom, we find the t-score from the t-distribution table.\n",
    "\n",
    "For 99% confidence level, t_0.005, 14 ≈ 2.977.\n",
    "\n",
    "#Step 3: Construct the Confidence Interval\n",
    "The formula for the confidence interval is:\n",
    "x̄ ± t ({s}/{sqrt{n}})\n",
    "\n",
    "Substituting the values:\n",
    "CI = 1.194 ± 2.977 ({0.229}/{sqrt{15}})\n",
    "\n",
    "Calculating:\n",
    "{0.229}/{sqrt{15}} ≈ 0.0592\n",
    "\n",
    "So:\n",
    "CI = 1.194 ± 2.977 * 0.0592 ≈ 1.194 ± 0.176\n",
    "\n",
    "Thus, the 99% confidence interval is:\n",
    "(1.018, 1.370)\n",
    "\n",
    "# Rationale for Using the t-distribution:\n",
    "Since the sample size is small (n < 30) and the population standard deviation is unknown, we use the t-distribution instead of the normal distribution. The t-distribution accounts for the additional uncertainty in estimating the population standard deviation from a small sample, which results in wider confidence intervals."
   ]
  },
  {
   "cell_type": "markdown",
   "id": "66613c8f-1b93-45d5-976f-b74f52c91896",
   "metadata": {},
   "source": [
    "# b. Build 99% Confidence Interval Using Known Population Standard Deviation"
   ]
  },
  {
   "cell_type": "markdown",
   "id": "9ddea46e-a956-4ca6-bc4c-70e197586445",
   "metadata": {},
   "source": [
    "#Step 1: Calculate the Margin of Error (ME)\n",
    "When the population standard deviation (σ) is known, the formula for the margin of error is:\n",
    "\n",
    "{ME} = z *{σ}/{sqrt{n}}\n",
    "\n",
    "For a 99% confidence level, the critical z-value ( z_{0.005}) is approximately 2.576. Given that σ = 0.2 million characters and n = 15:\n",
    "\n",
    "{ME} = 2.576 *{0.2}{sqrt{15}} ≈ 0.1056\n",
    "\n",
    "#Step 2: Construct the Confidence Interval\n",
    "\n",
    "{Confidence Interval} = x̄ ± ME = 1.2153 ± 0.1056\n",
    "\n",
    "Thus, the 99% confidence interval using the known population standard deviation is:\n",
    "\n",
    "(1.1097, 1.3209) million characters\n",
    "\n",
    "### Summary of Results\n",
    "\n",
    "99% Confidence Interval using Sample Standard Deviation: (1.0602, 1.3704)\n",
    "99% Confidence Interval using Known Population Standard Deviation: (1.1097, 1.3209)"
   ]
  },
  {
   "cell_type": "code",
   "execution_count": null,
   "id": "f1fb16c8-7fe3-476c-9fe9-193ad7abdbff",
   "metadata": {},
   "outputs": [],
   "source": []
  }
 ],
 "metadata": {
  "kernelspec": {
   "display_name": "Python 3 (ipykernel)",
   "language": "python",
   "name": "python3"
  },
  "language_info": {
   "codemirror_mode": {
    "name": "ipython",
    "version": 3
   },
   "file_extension": ".py",
   "mimetype": "text/x-python",
   "name": "python",
   "nbconvert_exporter": "python",
   "pygments_lexer": "ipython3",
   "version": "3.11.7"
  }
 },
 "nbformat": 4,
 "nbformat_minor": 5
}
